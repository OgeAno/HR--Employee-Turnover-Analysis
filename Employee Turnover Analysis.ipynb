{
 "cells": [
  {
   "cell_type": "markdown",
   "id": "c4b83246",
   "metadata": {},
   "source": [
    "## Data Wrangling in SQL"
   ]
  },
  {
   "cell_type": "markdown",
   "id": "bcc4389c",
   "metadata": {},
   "source": [
    "In this project, I worked with 3 HR employee datasets namely:  \n",
    "i).   Personal Details  \n",
    "ii).  Department Details  \n",
    "iii). Recruitment and Job Details  \n",
    "Each of the datasets had 310 entries for employees of the company in the region. Using MySQL, my approach was to do some cleaning on the datasets individually, and then combine (join) all 3 datasets into one based on their common columns."
   ]
  },
  {
   "cell_type": "markdown",
   "id": "e8396be4",
   "metadata": {},
   "source": [
    "### Step 1: Cleaning 'Personal Details' dataset"
   ]
  },
  {
   "cell_type": "code",
   "execution_count": 2,
   "id": "729a88a7",
   "metadata": {},
   "outputs": [
    {
     "data": {
      "text/html": [
       "<table border=\"1\" class=\"dataframe\">\n",
       "  <thead>\n",
       "    <tr style=\"text-align: right;\">\n",
       "      <th></th>\n",
       "      <th>EmployeeName</th>\n",
       "      <th>EmployeeNumber</th>\n",
       "      <th>Age</th>\n",
       "      <th>State</th>\n",
       "      <th>Zip</th>\n",
       "      <th>DOB</th>\n",
       "      <th>Sex</th>\n",
       "      <th>MaritalStatus</th>\n",
       "      <th>Citizenship</th>\n",
       "      <th>Race</th>\n",
       "    </tr>\n",
       "  </thead>\n",
       "  <tbody>\n",
       "    <tr>\n",
       "      <th>0</th>\n",
       "      <td>Brown, Mia</td>\n",
       "      <td>1103024456</td>\n",
       "      <td>30</td>\n",
       "      <td>MA</td>\n",
       "      <td>1450</td>\n",
       "      <td>11/24/1987</td>\n",
       "      <td>Female</td>\n",
       "      <td>Married</td>\n",
       "      <td>US Citizen</td>\n",
       "      <td>Black or African American</td>\n",
       "    </tr>\n",
       "    <tr>\n",
       "      <th>1</th>\n",
       "      <td>LaRotonda, William</td>\n",
       "      <td>1106026572</td>\n",
       "      <td>34</td>\n",
       "      <td>MA</td>\n",
       "      <td>1460</td>\n",
       "      <td>4/26/1984</td>\n",
       "      <td>Male</td>\n",
       "      <td>Divorced</td>\n",
       "      <td>US Citizen</td>\n",
       "      <td>Black or African American</td>\n",
       "    </tr>\n",
       "    <tr>\n",
       "      <th>2</th>\n",
       "      <td>Steans, Tyrone</td>\n",
       "      <td>1302053333</td>\n",
       "      <td>31</td>\n",
       "      <td>MA</td>\n",
       "      <td>2703</td>\n",
       "      <td>9/1/1986</td>\n",
       "      <td>Male</td>\n",
       "      <td>Single</td>\n",
       "      <td>US Citizen</td>\n",
       "      <td>White</td>\n",
       "    </tr>\n",
       "    <tr>\n",
       "      <th>3</th>\n",
       "      <td>Howard, Estelle</td>\n",
       "      <td>1211050782</td>\n",
       "      <td>32</td>\n",
       "      <td>MA</td>\n",
       "      <td>2170</td>\n",
       "      <td>9/16/1985</td>\n",
       "      <td>Female</td>\n",
       "      <td>Married</td>\n",
       "      <td>US Citizen</td>\n",
       "      <td>White</td>\n",
       "    </tr>\n",
       "    <tr>\n",
       "      <th>4</th>\n",
       "      <td>Singh, Nan</td>\n",
       "      <td>1307059817</td>\n",
       "      <td>30</td>\n",
       "      <td>MA</td>\n",
       "      <td>2330</td>\n",
       "      <td>5/19/1988</td>\n",
       "      <td>Female</td>\n",
       "      <td>Single</td>\n",
       "      <td>US Citizen</td>\n",
       "      <td>White</td>\n",
       "    </tr>\n",
       "    <tr>\n",
       "      <th>5</th>\n",
       "      <td>Smith, Leigh Ann</td>\n",
       "      <td>711007713</td>\n",
       "      <td>30</td>\n",
       "      <td>MA</td>\n",
       "      <td>1844</td>\n",
       "      <td>6/14/1987</td>\n",
       "      <td>Female</td>\n",
       "      <td>Married</td>\n",
       "      <td>US Citizen</td>\n",
       "      <td>Asian</td>\n",
       "    </tr>\n",
       "    <tr>\n",
       "      <th>6</th>\n",
       "      <td>LeBlanc, Brandon  R</td>\n",
       "      <td>1102024115</td>\n",
       "      <td>33</td>\n",
       "      <td>MA</td>\n",
       "      <td>1460</td>\n",
       "      <td>6/10/1984</td>\n",
       "      <td>Male</td>\n",
       "      <td>Married</td>\n",
       "      <td>US Citizen</td>\n",
       "      <td>White</td>\n",
       "    </tr>\n",
       "    <tr>\n",
       "      <th>7</th>\n",
       "      <td>Quinn, Sean</td>\n",
       "      <td>1206043417</td>\n",
       "      <td>33</td>\n",
       "      <td>MA</td>\n",
       "      <td>2045</td>\n",
       "      <td>11/6/1984</td>\n",
       "      <td>Male</td>\n",
       "      <td>Married</td>\n",
       "      <td>Eligible NonCitizen</td>\n",
       "      <td>Black or African American</td>\n",
       "    </tr>\n",
       "    <tr>\n",
       "      <th>8</th>\n",
       "      <td>Boutwell, Bonalyn</td>\n",
       "      <td>1307060188</td>\n",
       "      <td>31</td>\n",
       "      <td>MA</td>\n",
       "      <td>2468</td>\n",
       "      <td>4/4/1987</td>\n",
       "      <td>Female</td>\n",
       "      <td>Married</td>\n",
       "      <td>US Citizen</td>\n",
       "      <td>Asian</td>\n",
       "    </tr>\n",
       "    <tr>\n",
       "      <th>9</th>\n",
       "      <td>Foster-Baker, Amy</td>\n",
       "      <td>1201031308</td>\n",
       "      <td>39</td>\n",
       "      <td>MA</td>\n",
       "      <td>2050</td>\n",
       "      <td>4/16/1979</td>\n",
       "      <td>Female</td>\n",
       "      <td>Married</td>\n",
       "      <td>US Citizen</td>\n",
       "      <td>White</td>\n",
       "    </tr>\n",
       "  </tbody>\n",
       "</table>"
      ]
     },
     "metadata": {},
     "output_type": "display_data"
    }
   ],
   "source": [
    "SELECT * \n",
    "FROM employee.personal_details \n",
    "LIMIT 10"
   ]
  },
  {
   "cell_type": "code",
   "execution_count": 3,
   "id": "ec5ce71b",
   "metadata": {},
   "outputs": [
    {
     "data": {
      "text/html": [
       "<table border=\"1\" class=\"dataframe\">\n",
       "  <thead>\n",
       "    <tr style=\"text-align: right;\">\n",
       "      <th></th>\n",
       "      <th>Number</th>\n",
       "    </tr>\n",
       "  </thead>\n",
       "  <tbody>\n",
       "    <tr>\n",
       "      <th>0</th>\n",
       "      <td>310</td>\n",
       "    </tr>\n",
       "  </tbody>\n",
       "</table>"
      ]
     },
     "metadata": {},
     "output_type": "display_data"
    }
   ],
   "source": [
    "#Ensuring that all the rows of the 'personal details' dataset were successfully loaded into MySQL\n",
    "SELECT COUNT(EmployeeName) AS Number\n",
    "FROM employee.personal_details"
   ]
  },
  {
   "cell_type": "markdown",
   "id": "c8b21e05",
   "metadata": {},
   "source": [
    "All rows were successfully loaded."
   ]
  },
  {
   "cell_type": "markdown",
   "id": "b7158029",
   "metadata": {},
   "source": [
    "#### ~ Checking for duplicate entries"
   ]
  },
  {
   "cell_type": "code",
   "execution_count": 4,
   "id": "59cfdd3e",
   "metadata": {},
   "outputs": [
    {
     "data": {
      "text/html": [
       "<table border=\"1\" class=\"dataframe\">\n",
       "  <thead>\n",
       "    <tr style=\"text-align: right;\">\n",
       "      <th></th>\n",
       "      <th>EmployeeName</th>\n",
       "      <th>COUNT(EmployeeName)</th>\n",
       "    </tr>\n",
       "  </thead>\n",
       "  <tbody>\n",
       "  </tbody>\n",
       "</table>"
      ]
     },
     "metadata": {},
     "output_type": "display_data"
    }
   ],
   "source": [
    "SELECT EmployeeName, COUNT(EmployeeName)\n",
    "FROM employee.personal_details\n",
    "GROUP BY EmployeeName\n",
    "HAVING COUNT(EmployeeName) > 1"
   ]
  },
  {
   "cell_type": "markdown",
   "id": "5d783688",
   "metadata": {},
   "source": [
    "No duplicates"
   ]
  },
  {
   "cell_type": "markdown",
   "id": "1d6ce5be",
   "metadata": {},
   "source": [
    "#### ~Removing irrelevant columns\n",
    "Here, I dropped columns that were not going to be relevant in my analysis."
   ]
  },
  {
   "cell_type": "code",
   "execution_count": 5,
   "id": "45e6f57b",
   "metadata": {},
   "outputs": [
    {
     "data": {
      "text/html": []
     },
     "metadata": {},
     "output_type": "display_data"
    }
   ],
   "source": [
    "ALTER TABLE employee.personal_details\n",
    "DROP Zip,\n",
    "DROP DOB,\n",
    "DROP Citizenship"
   ]
  },
  {
   "cell_type": "code",
   "execution_count": 6,
   "id": "d6bad5e0",
   "metadata": {},
   "outputs": [
    {
     "data": {
      "text/html": [
       "<table border=\"1\" class=\"dataframe\">\n",
       "  <thead>\n",
       "    <tr style=\"text-align: right;\">\n",
       "      <th></th>\n",
       "      <th>EmployeeName</th>\n",
       "      <th>EmployeeNumber</th>\n",
       "      <th>Age</th>\n",
       "      <th>State</th>\n",
       "      <th>Sex</th>\n",
       "      <th>MaritalStatus</th>\n",
       "      <th>Race</th>\n",
       "    </tr>\n",
       "  </thead>\n",
       "  <tbody>\n",
       "    <tr>\n",
       "      <th>0</th>\n",
       "      <td>Brown, Mia</td>\n",
       "      <td>1103024456</td>\n",
       "      <td>30</td>\n",
       "      <td>MA</td>\n",
       "      <td>Female</td>\n",
       "      <td>Married</td>\n",
       "      <td>Black or African American</td>\n",
       "    </tr>\n",
       "    <tr>\n",
       "      <th>1</th>\n",
       "      <td>LaRotonda, William</td>\n",
       "      <td>1106026572</td>\n",
       "      <td>34</td>\n",
       "      <td>MA</td>\n",
       "      <td>Male</td>\n",
       "      <td>Divorced</td>\n",
       "      <td>Black or African American</td>\n",
       "    </tr>\n",
       "    <tr>\n",
       "      <th>2</th>\n",
       "      <td>Steans, Tyrone</td>\n",
       "      <td>1302053333</td>\n",
       "      <td>31</td>\n",
       "      <td>MA</td>\n",
       "      <td>Male</td>\n",
       "      <td>Single</td>\n",
       "      <td>White</td>\n",
       "    </tr>\n",
       "  </tbody>\n",
       "</table>"
      ]
     },
     "metadata": {},
     "output_type": "display_data"
    }
   ],
   "source": [
    "#double checking that the columns were properly dropped\n",
    "SELECT *\n",
    "FROM employee.personal_details \n",
    "LIMIT 3"
   ]
  },
  {
   "cell_type": "markdown",
   "id": "ccae2b4f",
   "metadata": {},
   "source": [
    "The columns were successfully dropped."
   ]
  },
  {
   "cell_type": "markdown",
   "id": "2c6b0453",
   "metadata": {},
   "source": [
    "#### ~Handling missing values"
   ]
  },
  {
   "cell_type": "code",
   "execution_count": 7,
   "id": "c9a44c9e",
   "metadata": {},
   "outputs": [
    {
     "data": {
      "text/html": [
       "<table border=\"1\" class=\"dataframe\">\n",
       "  <thead>\n",
       "    <tr style=\"text-align: right;\">\n",
       "      <th></th>\n",
       "      <th>EmployeeName</th>\n",
       "      <th>EmployeeNumber</th>\n",
       "      <th>Age</th>\n",
       "      <th>State</th>\n",
       "      <th>Sex</th>\n",
       "      <th>MaritalStatus</th>\n",
       "      <th>Race</th>\n",
       "    </tr>\n",
       "  </thead>\n",
       "  <tbody>\n",
       "  </tbody>\n",
       "</table>"
      ]
     },
     "metadata": {},
     "output_type": "display_data"
    }
   ],
   "source": [
    "SELECT *\n",
    "FROM employee.personal_details\n",
    "WHERE EmployeeNumber = ''\n",
    "OR Age = ''\n",
    "OR State = ''\n",
    "OR Sex = ''\n",
    "OR MaritalStatus = ''\n",
    "OR Race = ''"
   ]
  },
  {
   "cell_type": "markdown",
   "id": "393e2aeb",
   "metadata": {},
   "source": [
    "No missing values."
   ]
  },
  {
   "cell_type": "markdown",
   "id": "e5b80570",
   "metadata": {},
   "source": [
    "### Step 2: Cleaning 'Department Details' dataset"
   ]
  },
  {
   "cell_type": "code",
   "execution_count": 8,
   "id": "305a46cf",
   "metadata": {},
   "outputs": [
    {
     "data": {
      "text/html": [
       "<table border=\"1\" class=\"dataframe\">\n",
       "  <thead>\n",
       "    <tr style=\"text-align: right;\">\n",
       "      <th></th>\n",
       "      <th>EmployeeName</th>\n",
       "      <th>EmployeeID</th>\n",
       "      <th>Department</th>\n",
       "      <th>Position</th>\n",
       "      <th>ManagerName</th>\n",
       "      <th>ManagerID</th>\n",
       "      <th>SpecialProjectsCount</th>\n",
       "    </tr>\n",
       "  </thead>\n",
       "  <tbody>\n",
       "    <tr>\n",
       "      <th>0</th>\n",
       "      <td>Brown, Mia</td>\n",
       "      <td>1103024456</td>\n",
       "      <td>Admin Offices</td>\n",
       "      <td>Accountant I</td>\n",
       "      <td>Brandon R. LeBlanc</td>\n",
       "      <td>1</td>\n",
       "      <td>6</td>\n",
       "    </tr>\n",
       "    <tr>\n",
       "      <th>1</th>\n",
       "      <td>LaRotonda, William</td>\n",
       "      <td>1106026572</td>\n",
       "      <td>Admin Offices</td>\n",
       "      <td>Accountant I</td>\n",
       "      <td>Brandon R. LeBlanc</td>\n",
       "      <td>1</td>\n",
       "      <td>4</td>\n",
       "    </tr>\n",
       "    <tr>\n",
       "      <th>2</th>\n",
       "      <td>Steans, Tyrone</td>\n",
       "      <td>1302053333</td>\n",
       "      <td>Admin Offices</td>\n",
       "      <td>Accountant I</td>\n",
       "      <td>Brandon R. LeBlanc</td>\n",
       "      <td>1</td>\n",
       "      <td>5</td>\n",
       "    </tr>\n",
       "    <tr>\n",
       "      <th>3</th>\n",
       "      <td>Howard, Estelle</td>\n",
       "      <td>1211050782</td>\n",
       "      <td>Admin Offices</td>\n",
       "      <td>Administrative Assistant</td>\n",
       "      <td>Brandon R. LeBlanc</td>\n",
       "      <td>1</td>\n",
       "      <td>4</td>\n",
       "    </tr>\n",
       "    <tr>\n",
       "      <th>4</th>\n",
       "      <td>Singh, Nan</td>\n",
       "      <td>1307059817</td>\n",
       "      <td>Admin Offices</td>\n",
       "      <td>Administrative Assistant</td>\n",
       "      <td>Brandon R. LeBlanc</td>\n",
       "      <td>1</td>\n",
       "      <td>5</td>\n",
       "    </tr>\n",
       "    <tr>\n",
       "      <th>5</th>\n",
       "      <td>Smith, Leigh Ann</td>\n",
       "      <td>711007713</td>\n",
       "      <td>Admin Offices</td>\n",
       "      <td>Administrative Assistant</td>\n",
       "      <td>Brandon R. LeBlanc</td>\n",
       "      <td>1</td>\n",
       "      <td>4</td>\n",
       "    </tr>\n",
       "    <tr>\n",
       "      <th>6</th>\n",
       "      <td>Bunbury, Jessica</td>\n",
       "      <td>1504073368</td>\n",
       "      <td>Sales</td>\n",
       "      <td>Area Sales Manager</td>\n",
       "      <td>John Smith</td>\n",
       "      <td>17</td>\n",
       "      <td>0</td>\n",
       "    </tr>\n",
       "    <tr>\n",
       "      <th>7</th>\n",
       "      <td>Carter, Michelle</td>\n",
       "      <td>1403065721</td>\n",
       "      <td>Sales</td>\n",
       "      <td>Area Sales Manager</td>\n",
       "      <td>John Smith</td>\n",
       "      <td>17</td>\n",
       "      <td>0</td>\n",
       "    </tr>\n",
       "    <tr>\n",
       "      <th>8</th>\n",
       "      <td>Dietrich, Jenna</td>\n",
       "      <td>1408069481</td>\n",
       "      <td>Sales</td>\n",
       "      <td>Area Sales Manager</td>\n",
       "      <td>John Smith</td>\n",
       "      <td>17</td>\n",
       "      <td>0</td>\n",
       "    </tr>\n",
       "    <tr>\n",
       "      <th>9</th>\n",
       "      <td>Digitale, Alfred</td>\n",
       "      <td>1306059197</td>\n",
       "      <td>Sales</td>\n",
       "      <td>Area Sales Manager</td>\n",
       "      <td>John Smith</td>\n",
       "      <td>17</td>\n",
       "      <td>0</td>\n",
       "    </tr>\n",
       "  </tbody>\n",
       "</table>"
      ]
     },
     "metadata": {},
     "output_type": "display_data"
    }
   ],
   "source": [
    "SELECT * \n",
    "FROM employee.department_details \n",
    "LIMIT 10"
   ]
  },
  {
   "cell_type": "code",
   "execution_count": 9,
   "id": "fc8e30cb",
   "metadata": {},
   "outputs": [
    {
     "data": {
      "text/html": [
       "<table border=\"1\" class=\"dataframe\">\n",
       "  <thead>\n",
       "    <tr style=\"text-align: right;\">\n",
       "      <th></th>\n",
       "      <th>Number</th>\n",
       "    </tr>\n",
       "  </thead>\n",
       "  <tbody>\n",
       "    <tr>\n",
       "      <th>0</th>\n",
       "      <td>310</td>\n",
       "    </tr>\n",
       "  </tbody>\n",
       "</table>"
      ]
     },
     "metadata": {},
     "output_type": "display_data"
    }
   ],
   "source": [
    "#Ensuring that all the rows of the 'department details' dataset were successfully loaded into MySQL\n",
    "SELECT COUNT(EmployeeName) AS Number\n",
    "FROM employee.department_details"
   ]
  },
  {
   "cell_type": "markdown",
   "id": "ecb4396a",
   "metadata": {},
   "source": [
    "#### ~Checking for duplicate entries"
   ]
  },
  {
   "cell_type": "code",
   "execution_count": 10,
   "id": "86b9cab1",
   "metadata": {},
   "outputs": [
    {
     "data": {
      "text/html": [
       "<table border=\"1\" class=\"dataframe\">\n",
       "  <thead>\n",
       "    <tr style=\"text-align: right;\">\n",
       "      <th></th>\n",
       "      <th>EmployeeName</th>\n",
       "      <th>COUNT(EmployeeName)</th>\n",
       "    </tr>\n",
       "  </thead>\n",
       "  <tbody>\n",
       "  </tbody>\n",
       "</table>"
      ]
     },
     "metadata": {},
     "output_type": "display_data"
    }
   ],
   "source": [
    "SELECT EmployeeName, COUNT(EmployeeName)\n",
    "FROM employee.department_details\n",
    "GROUP BY EmployeeName\n",
    "HAVING COUNT(EmployeeName) > 1"
   ]
  },
  {
   "cell_type": "markdown",
   "id": "81aac035",
   "metadata": {},
   "source": [
    "No duplicates."
   ]
  },
  {
   "cell_type": "markdown",
   "id": "5a5f4a45",
   "metadata": {},
   "source": [
    "#### ~Removing irrelevant columns"
   ]
  },
  {
   "cell_type": "code",
   "execution_count": 11,
   "id": "1ef0d99e",
   "metadata": {},
   "outputs": [
    {
     "data": {
      "text/html": []
     },
     "metadata": {},
     "output_type": "display_data"
    }
   ],
   "source": [
    "ALTER TABLE employee.department_details\n",
    "DROP ManagerName,\n",
    "DROP ManagerID,\n",
    "DROP SpecialProjectsCount"
   ]
  },
  {
   "cell_type": "code",
   "execution_count": 12,
   "id": "6c742023",
   "metadata": {},
   "outputs": [
    {
     "data": {
      "text/html": [
       "<table border=\"1\" class=\"dataframe\">\n",
       "  <thead>\n",
       "    <tr style=\"text-align: right;\">\n",
       "      <th></th>\n",
       "      <th>EmployeeName</th>\n",
       "      <th>EmployeeID</th>\n",
       "      <th>Department</th>\n",
       "      <th>Position</th>\n",
       "    </tr>\n",
       "  </thead>\n",
       "  <tbody>\n",
       "    <tr>\n",
       "      <th>0</th>\n",
       "      <td>Brown, Mia</td>\n",
       "      <td>1103024456</td>\n",
       "      <td>Admin Offices</td>\n",
       "      <td>Accountant I</td>\n",
       "    </tr>\n",
       "    <tr>\n",
       "      <th>1</th>\n",
       "      <td>LaRotonda, William</td>\n",
       "      <td>1106026572</td>\n",
       "      <td>Admin Offices</td>\n",
       "      <td>Accountant I</td>\n",
       "    </tr>\n",
       "    <tr>\n",
       "      <th>2</th>\n",
       "      <td>Steans, Tyrone</td>\n",
       "      <td>1302053333</td>\n",
       "      <td>Admin Offices</td>\n",
       "      <td>Accountant I</td>\n",
       "    </tr>\n",
       "  </tbody>\n",
       "</table>"
      ]
     },
     "metadata": {},
     "output_type": "display_data"
    }
   ],
   "source": [
    "#double checking that the columns were properly dropped\n",
    "SELECT * \n",
    "FROM employee.department_details \n",
    "LIMIT 3"
   ]
  },
  {
   "cell_type": "markdown",
   "id": "33d0bf7b",
   "metadata": {},
   "source": [
    "#### ~Handling missing values"
   ]
  },
  {
   "cell_type": "code",
   "execution_count": 13,
   "id": "1e96057b",
   "metadata": {},
   "outputs": [
    {
     "data": {
      "text/html": [
       "<table border=\"1\" class=\"dataframe\">\n",
       "  <thead>\n",
       "    <tr style=\"text-align: right;\">\n",
       "      <th></th>\n",
       "      <th>EmployeeName</th>\n",
       "      <th>EmployeeID</th>\n",
       "      <th>Department</th>\n",
       "      <th>Position</th>\n",
       "    </tr>\n",
       "  </thead>\n",
       "  <tbody>\n",
       "  </tbody>\n",
       "</table>"
      ]
     },
     "metadata": {},
     "output_type": "display_data"
    }
   ],
   "source": [
    "SELECT *\n",
    "FROM employee.department_details\n",
    "WHERE EmployeeID = ''\n",
    "OR Department = ''"
   ]
  },
  {
   "cell_type": "markdown",
   "id": "aaffbf71",
   "metadata": {},
   "source": [
    "The output above shows that there are no missing values."
   ]
  },
  {
   "cell_type": "markdown",
   "id": "f36b7ead",
   "metadata": {},
   "source": [
    "### Step 3: Cleaning 'Recruitment and Job Details' dataset"
   ]
  },
  {
   "cell_type": "code",
   "execution_count": 14,
   "id": "be2b0b3f",
   "metadata": {},
   "outputs": [
    {
     "data": {
      "text/html": [
       "<table border=\"1\" class=\"dataframe\">\n",
       "  <thead>\n",
       "    <tr style=\"text-align: right;\">\n",
       "      <th></th>\n",
       "      <th>EmployeeName</th>\n",
       "      <th>EmployeeID</th>\n",
       "      <th>RecruitmentSource</th>\n",
       "      <th>DateOfHire</th>\n",
       "      <th>PayRate</th>\n",
       "      <th>EngagementSurvey</th>\n",
       "      <th>EmployeeSatisfaction</th>\n",
       "      <th>DateOfTermination</th>\n",
       "      <th>TerminationReason</th>\n",
       "    </tr>\n",
       "  </thead>\n",
       "  <tbody>\n",
       "    <tr>\n",
       "      <th>0</th>\n",
       "      <td>Brown, Mia</td>\n",
       "      <td>1103024456</td>\n",
       "      <td>Diversity Job Fair</td>\n",
       "      <td>10/27/2008</td>\n",
       "      <td>28.50</td>\n",
       "      <td>2.04</td>\n",
       "      <td>2</td>\n",
       "      <td></td>\n",
       "      <td>N/A - still employed</td>\n",
       "    </tr>\n",
       "    <tr>\n",
       "      <th>1</th>\n",
       "      <td>LaRotonda, William</td>\n",
       "      <td>1106026572</td>\n",
       "      <td>Website Banner Ads</td>\n",
       "      <td>1/6/2014</td>\n",
       "      <td>23.00</td>\n",
       "      <td>5.00</td>\n",
       "      <td>4</td>\n",
       "      <td></td>\n",
       "      <td>N/A - still employed</td>\n",
       "    </tr>\n",
       "    <tr>\n",
       "      <th>2</th>\n",
       "      <td>Steans, Tyrone</td>\n",
       "      <td>1302053333</td>\n",
       "      <td>Internet Search</td>\n",
       "      <td>9/29/2014</td>\n",
       "      <td>29.00</td>\n",
       "      <td>3.90</td>\n",
       "      <td>5</td>\n",
       "      <td></td>\n",
       "      <td>N/A - still employed</td>\n",
       "    </tr>\n",
       "    <tr>\n",
       "      <th>3</th>\n",
       "      <td>Howard, Estelle</td>\n",
       "      <td>1211050782</td>\n",
       "      <td>Pay Per Click - Google</td>\n",
       "      <td>2/16/2015</td>\n",
       "      <td>21.50</td>\n",
       "      <td>3.24</td>\n",
       "      <td>3</td>\n",
       "      <td>4/15/2015</td>\n",
       "      <td></td>\n",
       "    </tr>\n",
       "    <tr>\n",
       "      <th>4</th>\n",
       "      <td>Singh, Nan</td>\n",
       "      <td>1307059817</td>\n",
       "      <td>Website Banner Ads</td>\n",
       "      <td>5/1/2015</td>\n",
       "      <td>16.56</td>\n",
       "      <td>5.00</td>\n",
       "      <td>3</td>\n",
       "      <td></td>\n",
       "      <td>N/A - still employed</td>\n",
       "    </tr>\n",
       "    <tr>\n",
       "      <th>5</th>\n",
       "      <td>Smith, Leigh Ann</td>\n",
       "      <td>711007713</td>\n",
       "      <td>Diversity Job Fair</td>\n",
       "      <td>9/26/2011</td>\n",
       "      <td>20.50</td>\n",
       "      <td>3.80</td>\n",
       "      <td>4</td>\n",
       "      <td>9/25/2015</td>\n",
       "      <td>career change</td>\n",
       "    </tr>\n",
       "    <tr>\n",
       "      <th>6</th>\n",
       "      <td>Bunbury, Jessica</td>\n",
       "      <td>1504073368</td>\n",
       "      <td>Social Networks - Facebook Twitter etc</td>\n",
       "      <td>8/15/2011</td>\n",
       "      <td>55.00</td>\n",
       "      <td>3.14</td>\n",
       "      <td>5</td>\n",
       "      <td>8/2/2015</td>\n",
       "      <td>Another position</td>\n",
       "    </tr>\n",
       "    <tr>\n",
       "      <th>7</th>\n",
       "      <td>Carter, Michelle</td>\n",
       "      <td>1403065721</td>\n",
       "      <td>Billboard</td>\n",
       "      <td>8/18/2014</td>\n",
       "      <td>55.00</td>\n",
       "      <td>5.00</td>\n",
       "      <td>5</td>\n",
       "      <td></td>\n",
       "      <td>N/A - still employed</td>\n",
       "    </tr>\n",
       "    <tr>\n",
       "      <th>8</th>\n",
       "      <td>Dietrich, Jenna</td>\n",
       "      <td>1408069481</td>\n",
       "      <td>Website Banner Ads</td>\n",
       "      <td>2/20/2012</td>\n",
       "      <td>55.00</td>\n",
       "      <td>2.30</td>\n",
       "      <td>1</td>\n",
       "      <td></td>\n",
       "      <td>N/A - still employed</td>\n",
       "    </tr>\n",
       "    <tr>\n",
       "      <th>9</th>\n",
       "      <td>Digitale, Alfred</td>\n",
       "      <td>1306059197</td>\n",
       "      <td>Pay Per Click - Google</td>\n",
       "      <td>8/18/2014</td>\n",
       "      <td>56.00</td>\n",
       "      <td>3.60</td>\n",
       "      <td>5</td>\n",
       "      <td></td>\n",
       "      <td>N/A - still employed</td>\n",
       "    </tr>\n",
       "  </tbody>\n",
       "</table>"
      ]
     },
     "metadata": {},
     "output_type": "display_data"
    }
   ],
   "source": [
    "SELECT * \n",
    "FROM employee.recruitment_and_job_details \n",
    "LIMIT 10"
   ]
  },
  {
   "cell_type": "code",
   "execution_count": 15,
   "id": "f101062d",
   "metadata": {},
   "outputs": [
    {
     "data": {
      "text/html": [
       "<table border=\"1\" class=\"dataframe\">\n",
       "  <thead>\n",
       "    <tr style=\"text-align: right;\">\n",
       "      <th></th>\n",
       "      <th>Number</th>\n",
       "    </tr>\n",
       "  </thead>\n",
       "  <tbody>\n",
       "    <tr>\n",
       "      <th>0</th>\n",
       "      <td>310</td>\n",
       "    </tr>\n",
       "  </tbody>\n",
       "</table>"
      ]
     },
     "metadata": {},
     "output_type": "display_data"
    }
   ],
   "source": [
    "#Ensuring that all the entries of the 'recruitment and job details' dataset were sucessfully loaded into MySQL\n",
    "SELECT COUNT(EmployeeName) AS Number\n",
    "FROM employee.recruitment_and_job_details"
   ]
  },
  {
   "cell_type": "markdown",
   "id": "aad887b7",
   "metadata": {},
   "source": [
    "#### ~Checking for duplicate entries "
   ]
  },
  {
   "cell_type": "code",
   "execution_count": 16,
   "id": "1fa0be67",
   "metadata": {},
   "outputs": [
    {
     "data": {
      "text/html": [
       "<table border=\"1\" class=\"dataframe\">\n",
       "  <thead>\n",
       "    <tr style=\"text-align: right;\">\n",
       "      <th></th>\n",
       "      <th>EmployeeName</th>\n",
       "      <th>COUNT(EmployeeName)</th>\n",
       "    </tr>\n",
       "  </thead>\n",
       "  <tbody>\n",
       "  </tbody>\n",
       "</table>"
      ]
     },
     "metadata": {},
     "output_type": "display_data"
    }
   ],
   "source": [
    "SELECT EmployeeName, COUNT(EmployeeName)\n",
    "FROM employee.recruitment_and_job_details\n",
    "GROUP BY EmployeeName\n",
    "HAVING COUNT(EmployeeName) > 1"
   ]
  },
  {
   "cell_type": "markdown",
   "id": "a6710604",
   "metadata": {},
   "source": [
    "No duplicate entries."
   ]
  },
  {
   "cell_type": "markdown",
   "id": "245c0680",
   "metadata": {},
   "source": [
    "#### ~Removing irrelevant columns "
   ]
  },
  {
   "cell_type": "code",
   "execution_count": 17,
   "id": "c4ebd539",
   "metadata": {},
   "outputs": [
    {
     "data": {
      "text/html": []
     },
     "metadata": {},
     "output_type": "display_data"
    }
   ],
   "source": [
    "ALTER TABLE employee.recruitment_and_job_details\n",
    "DROP RecruitmentSource,\n",
    "DROP EngagementSurvey,\n",
    "DROP EmployeeSatisfaction"
   ]
  },
  {
   "cell_type": "code",
   "execution_count": 18,
   "id": "a529b352",
   "metadata": {},
   "outputs": [
    {
     "data": {
      "text/html": [
       "<table border=\"1\" class=\"dataframe\">\n",
       "  <thead>\n",
       "    <tr style=\"text-align: right;\">\n",
       "      <th></th>\n",
       "      <th>EmployeeName</th>\n",
       "      <th>EmployeeID</th>\n",
       "      <th>DateOfHire</th>\n",
       "      <th>PayRate</th>\n",
       "      <th>DateOfTermination</th>\n",
       "      <th>TerminationReason</th>\n",
       "    </tr>\n",
       "  </thead>\n",
       "  <tbody>\n",
       "    <tr>\n",
       "      <th>0</th>\n",
       "      <td>Brown, Mia</td>\n",
       "      <td>1103024456</td>\n",
       "      <td>10/27/2008</td>\n",
       "      <td>28.5</td>\n",
       "      <td></td>\n",
       "      <td>N/A - still employed</td>\n",
       "    </tr>\n",
       "    <tr>\n",
       "      <th>1</th>\n",
       "      <td>LaRotonda, William</td>\n",
       "      <td>1106026572</td>\n",
       "      <td>1/6/2014</td>\n",
       "      <td>23.0</td>\n",
       "      <td></td>\n",
       "      <td>N/A - still employed</td>\n",
       "    </tr>\n",
       "    <tr>\n",
       "      <th>2</th>\n",
       "      <td>Steans, Tyrone</td>\n",
       "      <td>1302053333</td>\n",
       "      <td>9/29/2014</td>\n",
       "      <td>29.0</td>\n",
       "      <td></td>\n",
       "      <td>N/A - still employed</td>\n",
       "    </tr>\n",
       "  </tbody>\n",
       "</table>"
      ]
     },
     "metadata": {},
     "output_type": "display_data"
    }
   ],
   "source": [
    "#double checking that the columns were properly dropped\n",
    "SELECT * \n",
    "FROM employee.recruitment_and_job_details \n",
    "LIMIT 3"
   ]
  },
  {
   "cell_type": "markdown",
   "id": "adce6d41",
   "metadata": {},
   "source": [
    "#### ~Handling missing values"
   ]
  },
  {
   "cell_type": "code",
   "execution_count": 19,
   "id": "a0b40647",
   "metadata": {},
   "outputs": [
    {
     "data": {
      "text/html": [
       "<table border=\"1\" class=\"dataframe\">\n",
       "  <thead>\n",
       "    <tr style=\"text-align: right;\">\n",
       "      <th></th>\n",
       "      <th>EmployeeName</th>\n",
       "      <th>EmployeeID</th>\n",
       "      <th>DateOfHire</th>\n",
       "      <th>PayRate</th>\n",
       "      <th>DateOfTermination</th>\n",
       "      <th>TerminationReason</th>\n",
       "    </tr>\n",
       "  </thead>\n",
       "  <tbody>\n",
       "    <tr>\n",
       "      <th>0</th>\n",
       "      <td>Brown, Mia</td>\n",
       "      <td>1103024456</td>\n",
       "      <td>10/27/2008</td>\n",
       "      <td>28.50</td>\n",
       "      <td></td>\n",
       "      <td>N/A - still employed</td>\n",
       "    </tr>\n",
       "    <tr>\n",
       "      <th>1</th>\n",
       "      <td>LaRotonda, William</td>\n",
       "      <td>1106026572</td>\n",
       "      <td>1/6/2014</td>\n",
       "      <td>23.00</td>\n",
       "      <td></td>\n",
       "      <td>N/A - still employed</td>\n",
       "    </tr>\n",
       "    <tr>\n",
       "      <th>2</th>\n",
       "      <td>Steans, Tyrone</td>\n",
       "      <td>1302053333</td>\n",
       "      <td>9/29/2014</td>\n",
       "      <td>29.00</td>\n",
       "      <td></td>\n",
       "      <td>N/A - still employed</td>\n",
       "    </tr>\n",
       "    <tr>\n",
       "      <th>3</th>\n",
       "      <td>Howard, Estelle</td>\n",
       "      <td>1211050782</td>\n",
       "      <td>2/16/2015</td>\n",
       "      <td>21.50</td>\n",
       "      <td>4/15/2015</td>\n",
       "      <td></td>\n",
       "    </tr>\n",
       "    <tr>\n",
       "      <th>4</th>\n",
       "      <td>Singh, Nan</td>\n",
       "      <td>1307059817</td>\n",
       "      <td>5/1/2015</td>\n",
       "      <td>16.56</td>\n",
       "      <td></td>\n",
       "      <td>N/A - still employed</td>\n",
       "    </tr>\n",
       "    <tr>\n",
       "      <th>5</th>\n",
       "      <td>Carter, Michelle</td>\n",
       "      <td>1403065721</td>\n",
       "      <td>8/18/2014</td>\n",
       "      <td>55.00</td>\n",
       "      <td></td>\n",
       "      <td>N/A - still employed</td>\n",
       "    </tr>\n",
       "    <tr>\n",
       "      <th>6</th>\n",
       "      <td>Dietrich, Jenna</td>\n",
       "      <td>1408069481</td>\n",
       "      <td>2/20/2012</td>\n",
       "      <td>55.00</td>\n",
       "      <td></td>\n",
       "      <td>N/A - still employed</td>\n",
       "    </tr>\n",
       "    <tr>\n",
       "      <th>7</th>\n",
       "      <td>Digitale, Alfred</td>\n",
       "      <td>1306059197</td>\n",
       "      <td>8/18/2014</td>\n",
       "      <td>56.00</td>\n",
       "      <td></td>\n",
       "      <td>N/A - still employed</td>\n",
       "    </tr>\n",
       "    <tr>\n",
       "      <th>8</th>\n",
       "      <td>Friedman, Gerry</td>\n",
       "      <td>1204032843</td>\n",
       "      <td>3/7/2011</td>\n",
       "      <td>55.50</td>\n",
       "      <td></td>\n",
       "      <td>N/A - still employed</td>\n",
       "    </tr>\n",
       "    <tr>\n",
       "      <th>9</th>\n",
       "      <td>Gonzales, Ricardo</td>\n",
       "      <td>1411071481</td>\n",
       "      <td>5/12/2014</td>\n",
       "      <td>55.50</td>\n",
       "      <td></td>\n",
       "      <td>N/A - still employed</td>\n",
       "    </tr>\n",
       "  </tbody>\n",
       "</table>"
      ]
     },
     "metadata": {},
     "output_type": "display_data"
    }
   ],
   "source": [
    "SELECT *\n",
    "FROM employee.recruitment_and_job_details\n",
    "WHERE EmployeeID = ''\n",
    "OR DateOfHire = ''\n",
    "OR PayRate = ''\n",
    "OR DateOfTermination = ''\n",
    "OR TerminationReason = '' \n",
    "LIMIT 10"
   ]
  },
  {
   "cell_type": "markdown",
   "id": "6091e64c",
   "metadata": {},
   "source": [
    "From the above output, it can be seen that there were missing values in the 'DateOfTermination' column. This is expected because the column had no entries for employees who were still working with the company. There were also missing values in 'TerminationReason' column. \n",
    "I replaced the missing values in both columns with \"NULL\"."
   ]
  },
  {
   "cell_type": "code",
   "execution_count": 20,
   "id": "c3fff761",
   "metadata": {},
   "outputs": [
    {
     "data": {
      "text/html": [
       "This result object does not return rows. It has been closed automatically."
      ]
     },
     "metadata": {},
     "output_type": "display_data"
    }
   ],
   "source": [
    "#Inputing \"NULL\" for entries with no termination reason\n",
    "UPDATE employee.recruitment_and_job_details\n",
    "SET TerminationReason = \"NULL\"\n",
    "WHERE TerminationReason = ''"
   ]
  },
  {
   "cell_type": "code",
   "execution_count": 21,
   "id": "fe035fdf",
   "metadata": {},
   "outputs": [
    {
     "data": {
      "text/html": [
       "This result object does not return rows. It has been closed automatically."
      ]
     },
     "metadata": {},
     "output_type": "display_data"
    }
   ],
   "source": [
    "#Inputing \"NULL\" for entries where there was no termination date (as those employees are still with the company)\n",
    "UPDATE employee.recruitment_and_job_details\n",
    "SET DateOfTermination = \"NULL\"\n",
    "WHERE DateOfTermination = '' "
   ]
  },
  {
   "cell_type": "code",
   "execution_count": 22,
   "id": "1108845a",
   "metadata": {},
   "outputs": [
    {
     "data": {
      "text/html": [
       "<table border=\"1\" class=\"dataframe\">\n",
       "  <thead>\n",
       "    <tr style=\"text-align: right;\">\n",
       "      <th></th>\n",
       "      <th>EmployeeName</th>\n",
       "      <th>EmployeeID</th>\n",
       "      <th>DateOfHire</th>\n",
       "      <th>PayRate</th>\n",
       "      <th>DateOfTermination</th>\n",
       "      <th>TerminationReason</th>\n",
       "    </tr>\n",
       "  </thead>\n",
       "  <tbody>\n",
       "  </tbody>\n",
       "</table>"
      ]
     },
     "metadata": {},
     "output_type": "display_data"
    }
   ],
   "source": [
    "#double-checking that the missing values above were successfully replaced (ie. checking that misisng values no longer exist)\n",
    "SELECT *\n",
    "FROM employee.recruitment_and_job_details\n",
    "WHERE EmployeeID = ''\n",
    "OR DateOfHire = ''\n",
    "OR PayRate = ''\n",
    "OR DateOfTermination = ''\n",
    "OR TerminationReason = ''"
   ]
  },
  {
   "cell_type": "markdown",
   "id": "a2e66b75",
   "metadata": {},
   "source": [
    " No more missing values."
   ]
  },
  {
   "cell_type": "markdown",
   "id": "8959bbae",
   "metadata": {},
   "source": [
    "### Step 4: Joining the Datasets\n",
    "After I was done cleaning all 3 datasets individually, I went ahead to join the datasets using common fields."
   ]
  },
  {
   "cell_type": "code",
   "execution_count": 23,
   "id": "f5958dac",
   "metadata": {
    "scrolled": true
   },
   "outputs": [
    {
     "data": {
      "text/html": [
       "<table border=\"1\" class=\"dataframe\">\n",
       "  <thead>\n",
       "    <tr style=\"text-align: right;\">\n",
       "      <th></th>\n",
       "      <th>EmployeeName</th>\n",
       "      <th>EmployeeNumber</th>\n",
       "      <th>Age</th>\n",
       "      <th>State</th>\n",
       "      <th>Sex</th>\n",
       "      <th>MaritalStatus</th>\n",
       "      <th>Race</th>\n",
       "      <th>EmployeeName</th>\n",
       "      <th>EmployeeID</th>\n",
       "      <th>Department</th>\n",
       "      <th>Position</th>\n",
       "      <th>EmployeeName</th>\n",
       "      <th>EmployeeID</th>\n",
       "      <th>DateOfHire</th>\n",
       "      <th>PayRate</th>\n",
       "      <th>DateOfTermination</th>\n",
       "      <th>TerminationReason</th>\n",
       "    </tr>\n",
       "  </thead>\n",
       "  <tbody>\n",
       "    <tr>\n",
       "      <th>0</th>\n",
       "      <td>Brown, Mia</td>\n",
       "      <td>1103024456</td>\n",
       "      <td>30</td>\n",
       "      <td>MA</td>\n",
       "      <td>Female</td>\n",
       "      <td>Married</td>\n",
       "      <td>Black or African American</td>\n",
       "      <td>Brown, Mia</td>\n",
       "      <td>1103024456</td>\n",
       "      <td>Admin Offices</td>\n",
       "      <td>Accountant I</td>\n",
       "      <td>Brown, Mia</td>\n",
       "      <td>1103024456</td>\n",
       "      <td>10/27/2008</td>\n",
       "      <td>28.50</td>\n",
       "      <td>NULL</td>\n",
       "      <td>N/A - still employed</td>\n",
       "    </tr>\n",
       "    <tr>\n",
       "      <th>1</th>\n",
       "      <td>LaRotonda, William</td>\n",
       "      <td>1106026572</td>\n",
       "      <td>34</td>\n",
       "      <td>MA</td>\n",
       "      <td>Male</td>\n",
       "      <td>Divorced</td>\n",
       "      <td>Black or African American</td>\n",
       "      <td>LaRotonda, William</td>\n",
       "      <td>1106026572</td>\n",
       "      <td>Admin Offices</td>\n",
       "      <td>Accountant I</td>\n",
       "      <td>LaRotonda, William</td>\n",
       "      <td>1106026572</td>\n",
       "      <td>1/6/2014</td>\n",
       "      <td>23.00</td>\n",
       "      <td>NULL</td>\n",
       "      <td>N/A - still employed</td>\n",
       "    </tr>\n",
       "    <tr>\n",
       "      <th>2</th>\n",
       "      <td>Steans, Tyrone</td>\n",
       "      <td>1302053333</td>\n",
       "      <td>31</td>\n",
       "      <td>MA</td>\n",
       "      <td>Male</td>\n",
       "      <td>Single</td>\n",
       "      <td>White</td>\n",
       "      <td>Steans, Tyrone</td>\n",
       "      <td>1302053333</td>\n",
       "      <td>Admin Offices</td>\n",
       "      <td>Accountant I</td>\n",
       "      <td>Steans, Tyrone</td>\n",
       "      <td>1302053333</td>\n",
       "      <td>9/29/2014</td>\n",
       "      <td>29.00</td>\n",
       "      <td>NULL</td>\n",
       "      <td>N/A - still employed</td>\n",
       "    </tr>\n",
       "    <tr>\n",
       "      <th>3</th>\n",
       "      <td>Howard, Estelle</td>\n",
       "      <td>1211050782</td>\n",
       "      <td>32</td>\n",
       "      <td>MA</td>\n",
       "      <td>Female</td>\n",
       "      <td>Married</td>\n",
       "      <td>White</td>\n",
       "      <td>Howard, Estelle</td>\n",
       "      <td>1211050782</td>\n",
       "      <td>Admin Offices</td>\n",
       "      <td>Administrative Assistant</td>\n",
       "      <td>Howard, Estelle</td>\n",
       "      <td>1211050782</td>\n",
       "      <td>2/16/2015</td>\n",
       "      <td>21.50</td>\n",
       "      <td>4/15/2015</td>\n",
       "      <td>NULL</td>\n",
       "    </tr>\n",
       "    <tr>\n",
       "      <th>4</th>\n",
       "      <td>Singh, Nan</td>\n",
       "      <td>1307059817</td>\n",
       "      <td>30</td>\n",
       "      <td>MA</td>\n",
       "      <td>Female</td>\n",
       "      <td>Single</td>\n",
       "      <td>White</td>\n",
       "      <td>Singh, Nan</td>\n",
       "      <td>1307059817</td>\n",
       "      <td>Admin Offices</td>\n",
       "      <td>Administrative Assistant</td>\n",
       "      <td>Singh, Nan</td>\n",
       "      <td>1307059817</td>\n",
       "      <td>5/1/2015</td>\n",
       "      <td>16.56</td>\n",
       "      <td>NULL</td>\n",
       "      <td>N/A - still employed</td>\n",
       "    </tr>\n",
       "    <tr>\n",
       "      <th>5</th>\n",
       "      <td>Smith, Leigh Ann</td>\n",
       "      <td>711007713</td>\n",
       "      <td>30</td>\n",
       "      <td>MA</td>\n",
       "      <td>Female</td>\n",
       "      <td>Married</td>\n",
       "      <td>Asian</td>\n",
       "      <td>Smith, Leigh Ann</td>\n",
       "      <td>711007713</td>\n",
       "      <td>Admin Offices</td>\n",
       "      <td>Administrative Assistant</td>\n",
       "      <td>Smith, Leigh Ann</td>\n",
       "      <td>711007713</td>\n",
       "      <td>9/26/2011</td>\n",
       "      <td>20.50</td>\n",
       "      <td>9/25/2015</td>\n",
       "      <td>career change</td>\n",
       "    </tr>\n",
       "  </tbody>\n",
       "</table>"
      ]
     },
     "metadata": {},
     "output_type": "display_data"
    }
   ],
   "source": [
    "#Joining the 3 datasets\n",
    "SELECT * FROM employee.personal_details pd\n",
    "LEFT JOIN employee.department_details dd ON pd.EmployeeName = dd.EmployeeName\n",
    "                                        AND pd.EmployeeNumber = dd.EmployeeID \n",
    "LEFT JOIN employee.recruitment_and_job_details rj ON pd.EmployeeName = rj.EmployeeName  \n",
    "                                                 AND pd.EmployeeNumber = rj.EmployeeID\n",
    "LIMIT 6                                                 "
   ]
  },
  {
   "cell_type": "markdown",
   "id": "b52bf451",
   "metadata": {},
   "source": [
    "My join was sucessfully done, and I wanted to save my result in a dataset called \"joined_dataset\". In order for me to do that, I had to rename the \"EmployeeName\" and \"EmployeeID\" columns in the \"department_details\" and \"recruitment_and_job_details\" datasets. This is because if I tried to create a table/dataset to save my join result, it would bring up an error of duplicate column name \"EmployeeName\", and duplicate column name \"EmployeeId\", since my join result has 3 \"EmployeeName\" columns and 2 \"EmployeeID\" columns."
   ]
  },
  {
   "cell_type": "code",
   "execution_count": 24,
   "id": "a6706f1f",
   "metadata": {},
   "outputs": [
    {
     "data": {
      "text/html": [
       "This result object does not return rows. It has been closed automatically."
      ]
     },
     "metadata": {},
     "output_type": "display_data"
    }
   ],
   "source": [
    "#changing EmployeeName column for department_details dataset\n",
    "ALTER TABLE employee.department_details\n",
    "rename column EmployeeName to EmployeeName2"
   ]
  },
  {
   "cell_type": "code",
   "execution_count": 25,
   "id": "77c38511",
   "metadata": {},
   "outputs": [
    {
     "data": {
      "text/html": [
       "<table border=\"1\" class=\"dataframe\">\n",
       "  <thead>\n",
       "    <tr style=\"text-align: right;\">\n",
       "      <th></th>\n",
       "      <th>EmployeeName2</th>\n",
       "      <th>EmployeeID</th>\n",
       "      <th>Department</th>\n",
       "      <th>Position</th>\n",
       "    </tr>\n",
       "  </thead>\n",
       "  <tbody>\n",
       "    <tr>\n",
       "      <th>0</th>\n",
       "      <td>Brown, Mia</td>\n",
       "      <td>1103024456</td>\n",
       "      <td>Admin Offices</td>\n",
       "      <td>Accountant I</td>\n",
       "    </tr>\n",
       "    <tr>\n",
       "      <th>1</th>\n",
       "      <td>LaRotonda, William</td>\n",
       "      <td>1106026572</td>\n",
       "      <td>Admin Offices</td>\n",
       "      <td>Accountant I</td>\n",
       "    </tr>\n",
       "    <tr>\n",
       "      <th>2</th>\n",
       "      <td>Steans, Tyrone</td>\n",
       "      <td>1302053333</td>\n",
       "      <td>Admin Offices</td>\n",
       "      <td>Accountant I</td>\n",
       "    </tr>\n",
       "  </tbody>\n",
       "</table>"
      ]
     },
     "metadata": {},
     "output_type": "display_data"
    }
   ],
   "source": [
    "#double-checking that the EmployeeName column had been changed\n",
    "SELECT * FROM employee.department_details \n",
    "LIMIT 3"
   ]
  },
  {
   "cell_type": "code",
   "execution_count": 26,
   "id": "7cb02ebc",
   "metadata": {},
   "outputs": [
    {
     "data": {
      "text/html": [
       "This result object does not return rows. It has been closed automatically."
      ]
     },
     "metadata": {},
     "output_type": "display_data"
    }
   ],
   "source": [
    "#changing EmployeeName column for recruitment_and_job_details dataset\n",
    "ALTER TABLE employee.recruitment_and_job_details\n",
    "rename column EmployeeName to EmployeeName3  "
   ]
  },
  {
   "cell_type": "code",
   "execution_count": 27,
   "id": "16879f5a",
   "metadata": {},
   "outputs": [
    {
     "data": {
      "text/html": [
       "This result object does not return rows. It has been closed automatically."
      ]
     },
     "metadata": {},
     "output_type": "display_data"
    }
   ],
   "source": [
    "#changing EmployeeID column for recruitment_and_job_details dataset\n",
    "ALTER TABLE recruitment_and_job_details\n",
    "rename column EmployeeID to EmployeeID2    "
   ]
  },
  {
   "cell_type": "code",
   "execution_count": 28,
   "id": "4aae6616",
   "metadata": {},
   "outputs": [
    {
     "data": {
      "text/html": [
       "<table border=\"1\" class=\"dataframe\">\n",
       "  <thead>\n",
       "    <tr style=\"text-align: right;\">\n",
       "      <th></th>\n",
       "      <th>EmployeeName3</th>\n",
       "      <th>EmployeeID2</th>\n",
       "      <th>DateOfHire</th>\n",
       "      <th>PayRate</th>\n",
       "      <th>DateOfTermination</th>\n",
       "      <th>TerminationReason</th>\n",
       "    </tr>\n",
       "  </thead>\n",
       "  <tbody>\n",
       "    <tr>\n",
       "      <th>0</th>\n",
       "      <td>Brown, Mia</td>\n",
       "      <td>1103024456</td>\n",
       "      <td>10/27/2008</td>\n",
       "      <td>28.5</td>\n",
       "      <td>NULL</td>\n",
       "      <td>N/A - still employed</td>\n",
       "    </tr>\n",
       "    <tr>\n",
       "      <th>1</th>\n",
       "      <td>LaRotonda, William</td>\n",
       "      <td>1106026572</td>\n",
       "      <td>1/6/2014</td>\n",
       "      <td>23.0</td>\n",
       "      <td>NULL</td>\n",
       "      <td>N/A - still employed</td>\n",
       "    </tr>\n",
       "    <tr>\n",
       "      <th>2</th>\n",
       "      <td>Steans, Tyrone</td>\n",
       "      <td>1302053333</td>\n",
       "      <td>9/29/2014</td>\n",
       "      <td>29.0</td>\n",
       "      <td>NULL</td>\n",
       "      <td>N/A - still employed</td>\n",
       "    </tr>\n",
       "  </tbody>\n",
       "</table>"
      ]
     },
     "metadata": {},
     "output_type": "display_data"
    }
   ],
   "source": [
    "#double checking that the recruitment_and_job_details columns had been changed\n",
    "SELECT * FROM employee.recruitment_and_job_details \n",
    "LIMIT 3"
   ]
  },
  {
   "cell_type": "code",
   "execution_count": 29,
   "id": "6761a1cf",
   "metadata": {},
   "outputs": [
    {
     "data": {
      "text/html": [
       "This result object does not return rows. It has been closed automatically."
      ]
     },
     "metadata": {},
     "output_type": "display_data"
    }
   ],
   "source": [
    "#Storing my join result in a dataset called \"joined_dataset\"\n",
    "CREATE TABLE joined_dataset\n",
    "SELECT * FROM employee.personal_details pd\n",
    "LEFT JOIN employee.department_details dd ON pd.EmployeeName = dd.EmployeeName2\n",
    "                                        AND pd.EmployeeNumber = dd.EmployeeID \n",
    "LEFT JOIN employee.recruitment_and_job_details rj ON pd.EmployeeName = rj.EmployeeName3  \n",
    "                                                 AND pd.EmployeeNumber = rj.EmployeeID2"
   ]
  },
  {
   "cell_type": "code",
   "execution_count": 30,
   "id": "2daa757e",
   "metadata": {},
   "outputs": [
    {
     "data": {
      "text/html": [
       "<table border=\"1\" class=\"dataframe\">\n",
       "  <thead>\n",
       "    <tr style=\"text-align: right;\">\n",
       "      <th></th>\n",
       "      <th>EmployeeName</th>\n",
       "      <th>EmployeeNumber</th>\n",
       "      <th>Age</th>\n",
       "      <th>State</th>\n",
       "      <th>Sex</th>\n",
       "      <th>MaritalStatus</th>\n",
       "      <th>Race</th>\n",
       "      <th>EmployeeName2</th>\n",
       "      <th>EmployeeID</th>\n",
       "      <th>Department</th>\n",
       "      <th>Position</th>\n",
       "      <th>EmployeeName3</th>\n",
       "      <th>EmployeeID2</th>\n",
       "      <th>DateOfHire</th>\n",
       "      <th>PayRate</th>\n",
       "      <th>DateOfTermination</th>\n",
       "      <th>TerminationReason</th>\n",
       "    </tr>\n",
       "  </thead>\n",
       "  <tbody>\n",
       "    <tr>\n",
       "      <th>0</th>\n",
       "      <td>Brown, Mia</td>\n",
       "      <td>1103024456</td>\n",
       "      <td>30</td>\n",
       "      <td>MA</td>\n",
       "      <td>Female</td>\n",
       "      <td>Married</td>\n",
       "      <td>Black or African American</td>\n",
       "      <td>Brown, Mia</td>\n",
       "      <td>1103024456</td>\n",
       "      <td>Admin Offices</td>\n",
       "      <td>Accountant I</td>\n",
       "      <td>Brown, Mia</td>\n",
       "      <td>1103024456</td>\n",
       "      <td>10/27/2008</td>\n",
       "      <td>28.5</td>\n",
       "      <td>NULL</td>\n",
       "      <td>N/A - still employed</td>\n",
       "    </tr>\n",
       "    <tr>\n",
       "      <th>1</th>\n",
       "      <td>LaRotonda, William</td>\n",
       "      <td>1106026572</td>\n",
       "      <td>34</td>\n",
       "      <td>MA</td>\n",
       "      <td>Male</td>\n",
       "      <td>Divorced</td>\n",
       "      <td>Black or African American</td>\n",
       "      <td>LaRotonda, William</td>\n",
       "      <td>1106026572</td>\n",
       "      <td>Admin Offices</td>\n",
       "      <td>Accountant I</td>\n",
       "      <td>LaRotonda, William</td>\n",
       "      <td>1106026572</td>\n",
       "      <td>1/6/2014</td>\n",
       "      <td>23.0</td>\n",
       "      <td>NULL</td>\n",
       "      <td>N/A - still employed</td>\n",
       "    </tr>\n",
       "    <tr>\n",
       "      <th>2</th>\n",
       "      <td>Steans, Tyrone</td>\n",
       "      <td>1302053333</td>\n",
       "      <td>31</td>\n",
       "      <td>MA</td>\n",
       "      <td>Male</td>\n",
       "      <td>Single</td>\n",
       "      <td>White</td>\n",
       "      <td>Steans, Tyrone</td>\n",
       "      <td>1302053333</td>\n",
       "      <td>Admin Offices</td>\n",
       "      <td>Accountant I</td>\n",
       "      <td>Steans, Tyrone</td>\n",
       "      <td>1302053333</td>\n",
       "      <td>9/29/2014</td>\n",
       "      <td>29.0</td>\n",
       "      <td>NULL</td>\n",
       "      <td>N/A - still employed</td>\n",
       "    </tr>\n",
       "  </tbody>\n",
       "</table>"
      ]
     },
     "metadata": {},
     "output_type": "display_data"
    }
   ],
   "source": [
    "#Taking a look at joined_dataset\n",
    "SELECT *\n",
    "FROM employee.joined_dataset \n",
    "LIMIT 3"
   ]
  },
  {
   "cell_type": "markdown",
   "id": "37ec9334",
   "metadata": {},
   "source": [
    "After taking a first glance at joined_dataset, the next thing I did was drop the extra 2 EmployeeName and EmployeeID columns ie. so that there would be only one EmployeeName column and one EmployeeID column."
   ]
  },
  {
   "cell_type": "code",
   "execution_count": 31,
   "id": "2bc3e0fc",
   "metadata": {},
   "outputs": [
    {
     "data": {
      "text/html": [
       "This result object does not return rows. It has been closed automatically."
      ]
     },
     "metadata": {},
     "output_type": "display_data"
    }
   ],
   "source": [
    " #dropping the extra EmployeeName and EmployeeID columns\n",
    "ALTER TABLE employee.joined_dataset\n",
    "DROP EmployeeName2,\n",
    "DROP EmployeeName3,\n",
    "DROP EmployeeNumber,\n",
    "DROP EmployeeID2"
   ]
  },
  {
   "cell_type": "code",
   "execution_count": 32,
   "id": "00d4cb72",
   "metadata": {},
   "outputs": [
    {
     "data": {
      "text/html": [
       "<table border=\"1\" class=\"dataframe\">\n",
       "  <thead>\n",
       "    <tr style=\"text-align: right;\">\n",
       "      <th></th>\n",
       "      <th>EmployeeName</th>\n",
       "      <th>Age</th>\n",
       "      <th>State</th>\n",
       "      <th>Sex</th>\n",
       "      <th>MaritalStatus</th>\n",
       "      <th>Race</th>\n",
       "      <th>EmployeeID</th>\n",
       "      <th>Department</th>\n",
       "      <th>Position</th>\n",
       "      <th>DateOfHire</th>\n",
       "      <th>PayRate</th>\n",
       "      <th>DateOfTermination</th>\n",
       "      <th>TerminationReason</th>\n",
       "    </tr>\n",
       "  </thead>\n",
       "  <tbody>\n",
       "    <tr>\n",
       "      <th>0</th>\n",
       "      <td>Brown, Mia</td>\n",
       "      <td>30</td>\n",
       "      <td>MA</td>\n",
       "      <td>Female</td>\n",
       "      <td>Married</td>\n",
       "      <td>Black or African American</td>\n",
       "      <td>1103024456</td>\n",
       "      <td>Admin Offices</td>\n",
       "      <td>Accountant I</td>\n",
       "      <td>10/27/2008</td>\n",
       "      <td>28.5</td>\n",
       "      <td>NULL</td>\n",
       "      <td>N/A - still employed</td>\n",
       "    </tr>\n",
       "    <tr>\n",
       "      <th>1</th>\n",
       "      <td>LaRotonda, William</td>\n",
       "      <td>34</td>\n",
       "      <td>MA</td>\n",
       "      <td>Male</td>\n",
       "      <td>Divorced</td>\n",
       "      <td>Black or African American</td>\n",
       "      <td>1106026572</td>\n",
       "      <td>Admin Offices</td>\n",
       "      <td>Accountant I</td>\n",
       "      <td>1/6/2014</td>\n",
       "      <td>23.0</td>\n",
       "      <td>NULL</td>\n",
       "      <td>N/A - still employed</td>\n",
       "    </tr>\n",
       "    <tr>\n",
       "      <th>2</th>\n",
       "      <td>Steans, Tyrone</td>\n",
       "      <td>31</td>\n",
       "      <td>MA</td>\n",
       "      <td>Male</td>\n",
       "      <td>Single</td>\n",
       "      <td>White</td>\n",
       "      <td>1302053333</td>\n",
       "      <td>Admin Offices</td>\n",
       "      <td>Accountant I</td>\n",
       "      <td>9/29/2014</td>\n",
       "      <td>29.0</td>\n",
       "      <td>NULL</td>\n",
       "      <td>N/A - still employed</td>\n",
       "    </tr>\n",
       "  </tbody>\n",
       "</table>"
      ]
     },
     "metadata": {},
     "output_type": "display_data"
    }
   ],
   "source": [
    "#double-checking that the columns mentioned above had been dropped\n",
    "SELECT* \n",
    "FROM employee.joined_dataset \n",
    "LIMIT 3"
   ]
  },
  {
   "cell_type": "markdown",
   "id": "4a006d18",
   "metadata": {},
   "source": [
    "The columns were successfully dropped."
   ]
  },
  {
   "cell_type": "markdown",
   "id": "38d5a800",
   "metadata": {},
   "source": [
    "After I had all my columns intact, the final thing I did was to move the EmployeeID column to come right after the EmployeeName column"
   ]
  },
  {
   "cell_type": "code",
   "execution_count": 33,
   "id": "70b2edd2",
   "metadata": {},
   "outputs": [
    {
     "data": {
      "text/html": [
       "This result object does not return rows. It has been closed automatically."
      ]
     },
     "metadata": {},
     "output_type": "display_data"
    }
   ],
   "source": [
    "#to bring the 'EmployeeID' column to be right after 'EmployeeName'\n",
    "ALTER TABLE employee.joined_dataset\n",
    "MODIFY EmployeeID int\n",
    "AFTER EmployeeName"
   ]
  },
  {
   "cell_type": "code",
   "execution_count": 34,
   "id": "b74987fd",
   "metadata": {},
   "outputs": [
    {
     "data": {
      "text/html": [
       "<table border=\"1\" class=\"dataframe\">\n",
       "  <thead>\n",
       "    <tr style=\"text-align: right;\">\n",
       "      <th></th>\n",
       "      <th>EmployeeName</th>\n",
       "      <th>EmployeeID</th>\n",
       "      <th>Age</th>\n",
       "      <th>State</th>\n",
       "      <th>Sex</th>\n",
       "      <th>MaritalStatus</th>\n",
       "      <th>Race</th>\n",
       "      <th>Department</th>\n",
       "      <th>Position</th>\n",
       "      <th>DateOfHire</th>\n",
       "      <th>PayRate</th>\n",
       "      <th>DateOfTermination</th>\n",
       "      <th>TerminationReason</th>\n",
       "    </tr>\n",
       "  </thead>\n",
       "  <tbody>\n",
       "    <tr>\n",
       "      <th>0</th>\n",
       "      <td>Brown, Mia</td>\n",
       "      <td>1103024456</td>\n",
       "      <td>30</td>\n",
       "      <td>MA</td>\n",
       "      <td>Female</td>\n",
       "      <td>Married</td>\n",
       "      <td>Black or African American</td>\n",
       "      <td>Admin Offices</td>\n",
       "      <td>Accountant I</td>\n",
       "      <td>10/27/2008</td>\n",
       "      <td>28.5</td>\n",
       "      <td>NULL</td>\n",
       "      <td>N/A - still employed</td>\n",
       "    </tr>\n",
       "    <tr>\n",
       "      <th>1</th>\n",
       "      <td>LaRotonda, William</td>\n",
       "      <td>1106026572</td>\n",
       "      <td>34</td>\n",
       "      <td>MA</td>\n",
       "      <td>Male</td>\n",
       "      <td>Divorced</td>\n",
       "      <td>Black or African American</td>\n",
       "      <td>Admin Offices</td>\n",
       "      <td>Accountant I</td>\n",
       "      <td>1/6/2014</td>\n",
       "      <td>23.0</td>\n",
       "      <td>NULL</td>\n",
       "      <td>N/A - still employed</td>\n",
       "    </tr>\n",
       "    <tr>\n",
       "      <th>2</th>\n",
       "      <td>Steans, Tyrone</td>\n",
       "      <td>1302053333</td>\n",
       "      <td>31</td>\n",
       "      <td>MA</td>\n",
       "      <td>Male</td>\n",
       "      <td>Single</td>\n",
       "      <td>White</td>\n",
       "      <td>Admin Offices</td>\n",
       "      <td>Accountant I</td>\n",
       "      <td>9/29/2014</td>\n",
       "      <td>29.0</td>\n",
       "      <td>NULL</td>\n",
       "      <td>N/A - still employed</td>\n",
       "    </tr>\n",
       "  </tbody>\n",
       "</table>"
      ]
     },
     "metadata": {},
     "output_type": "display_data"
    }
   ],
   "source": [
    "#double-checking that the  columns had been properly rearranged\n",
    "SELECT * \n",
    "FROM employee.joined_dataset \n",
    "LIMIT 3"
   ]
  },
  {
   "cell_type": "markdown",
   "id": "e57843a9",
   "metadata": {},
   "source": [
    "At this point, I was done with data wrangling, and exported the combined dataset (joined_dataset) to Tableau for further exploration and visualisation."
   ]
  }
 ],
 "metadata": {
  "kernelspec": {
   "display_name": "Mysql",
   "language": "sql",
   "name": "mysql"
  },
  "language_info": {
   "file_extension": ".sql",
   "mimetype": "text/x-sh",
   "name": "sql"
  }
 },
 "nbformat": 4,
 "nbformat_minor": 5
}
